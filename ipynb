{
 "cells": [
  {
   "cell_type": "code",
   "execution_count": 1,
   "metadata": {},
   "outputs": [
    {
     "ename": "IndentationError",
     "evalue": "expected an indented block (<ipython-input-1-d770988ad3be>, line 4)",
     "output_type": "error",
     "traceback": [
      "\u001b[1;36m  File \u001b[1;32m\"<ipython-input-1-d770988ad3be>\"\u001b[1;36m, line \u001b[1;32m4\u001b[0m\n\u001b[1;33m    def compute_tf(text):\u001b[0m\n\u001b[1;37m      ^\u001b[0m\n\u001b[1;31mIndentationError\u001b[0m\u001b[1;31m:\u001b[0m expected an indented block\n"
     ]
    }
   ],
   "source": [
    "from collections import Counter\n",
    "import math\n",
    "def compute_tfidf(corpus):\n",
    "def compute_tf(text):\n",
    "tf_text = Counter(text)\n",
    "for i in tf_text:\n",
    "tf_text[i] = tf_text[i]/float(len(text))\n",
    "return tf_text\n",
    "def compute_idf(word, corpus):\n",
    "return math.log10(len(corpus)/sum([1.0 for i in corpus if word in i]))\n",
    " \n",
    "documents_list = []\n",
    "for text in corpus:\n",
    "tf_idf_dictionary = {}\n",
    "computed_tf = compute_tf(text)\n",
    "for word in computed_tf:\n",
    "tf_idf_dictionary[word] = computed_tf[word] * compute_idf(word, corpus)\n",
    "documents_list.append(tf_idf_dictionary)\n",
    "return documents_list\n",
    "corpus = [[‘pasta’, ‘la’, ‘vista’, ‘baby’, ‘la’, ‘vista’],\n",
    "[‘hasta’, ‘siempre’, ‘comandante’, ‘baby’, ‘la’, ‘siempre’],\n",
    "[‘siempre’, ‘comandante’, ‘baby’, ‘la’, ‘siempre’]]\n",
    "print compute_tfidf(corpus)"
   ]
  },
  {
   "cell_type": "code",
   "execution_count": null,
   "metadata": {},
   "outputs": [],
   "source": []
  },
  {
   "cell_type": "code",
   "execution_count": null,
   "metadata": {},
   "outputs": [],
   "source": []
  }
 ],
 "metadata": {
  "kernelspec": {
   "display_name": "Python 3",
   "language": "python",
   "name": "python3"
  },
  "language_info": {
   "codemirror_mode": {
    "name": "ipython",
    "version": 3
   },
   "file_extension": ".py",
   "mimetype": "text/x-python",
   "name": "python",
   "nbconvert_exporter": "python",
   "pygments_lexer": "ipython3",
   "version": "3.7.0"
  }
 },
 "nbformat": 4,
 "nbformat_minor": 2
}
