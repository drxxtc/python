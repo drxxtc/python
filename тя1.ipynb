{
 "cells": [
  {
   "cell_type": "code",
   "execution_count": 8,
   "metadata": {
    "colab": {
     "base_uri": "https://localhost:8080/"
    },
    "executionInfo": {
     "elapsed": 3207,
     "status": "ok",
     "timestamp": 1606631356226,
     "user": {
      "displayName": "Alina Gura",
      "photoUrl": "https://lh3.googleusercontent.com/a-/AOh14GhHli0GRpzaCEH7YaiT-nOwn_631SPcXGsH-3ET=s64",
      "userId": "11452929600784148158"
     },
     "user_tz": -300
    },
    "id": "BIAf5s-1p2Kg",
    "outputId": "a7bf7689-eb8f-4846-e994-901bc685bcaf"
   },
   "outputs": [
    {
     "name": "stdout",
     "output_type": "stream",
     "text": [
      "Requirement already satisfied: dostoevsky in /usr/local/lib/python3.6/dist-packages (0.5.0)\n",
      "Requirement already satisfied: pytest==5.3.5 in /usr/local/lib/python3.6/dist-packages (from dostoevsky) (5.3.5)\n",
      "Requirement already satisfied: fasttext==0.9.1 in /usr/local/lib/python3.6/dist-packages (from dostoevsky) (0.9.1)\n",
      "Requirement already satisfied: pymorphy2==0.8 in /usr/local/lib/python3.6/dist-packages (from dostoevsky) (0.8)\n",
      "Requirement already satisfied: razdel==0.4.0 in /usr/local/lib/python3.6/dist-packages (from dostoevsky) (0.4.0)\n",
      "Requirement already satisfied: scikit-learn==0.22.1 in /usr/local/lib/python3.6/dist-packages (from dostoevsky) (0.22.1)\n",
      "Requirement already satisfied: b-labs-models==2017.8.22 in /usr/local/lib/python3.6/dist-packages (from dostoevsky) (2017.8.22)\n",
      "Requirement already satisfied: russian-tagsets==0.6 in /usr/local/lib/python3.6/dist-packages (from dostoevsky) (0.6)\n",
      "Requirement already satisfied: importlib-metadata>=0.12; python_version < \"3.8\" in /usr/local/lib/python3.6/dist-packages (from pytest==5.3.5->dostoevsky) (2.0.0)\n",
      "Requirement already satisfied: pluggy<1.0,>=0.12 in /usr/local/lib/python3.6/dist-packages (from pytest==5.3.5->dostoevsky) (0.13.1)\n",
      "Requirement already satisfied: more-itertools>=4.0.0 in /usr/local/lib/python3.6/dist-packages (from pytest==5.3.5->dostoevsky) (8.6.0)\n",
      "Requirement already satisfied: packaging in /usr/local/lib/python3.6/dist-packages (from pytest==5.3.5->dostoevsky) (20.4)\n",
      "Requirement already satisfied: py>=1.5.0 in /usr/local/lib/python3.6/dist-packages (from pytest==5.3.5->dostoevsky) (1.9.0)\n",
      "Requirement already satisfied: wcwidth in /usr/local/lib/python3.6/dist-packages (from pytest==5.3.5->dostoevsky) (0.2.5)\n",
      "Requirement already satisfied: attrs>=17.4.0 in /usr/local/lib/python3.6/dist-packages (from pytest==5.3.5->dostoevsky) (20.3.0)\n",
      "Requirement already satisfied: pybind11>=2.2 in /usr/local/lib/python3.6/dist-packages (from fasttext==0.9.1->dostoevsky) (2.6.1)\n",
      "Requirement already satisfied: setuptools>=0.7.0 in /usr/local/lib/python3.6/dist-packages (from fasttext==0.9.1->dostoevsky) (50.3.2)\n",
      "Requirement already satisfied: numpy in /usr/local/lib/python3.6/dist-packages (from fasttext==0.9.1->dostoevsky) (1.18.5)\n",
      "Requirement already satisfied: docopt>=0.6 in /usr/local/lib/python3.6/dist-packages (from pymorphy2==0.8->dostoevsky) (0.6.2)\n",
      "Requirement already satisfied: dawg-python>=0.7 in /usr/local/lib/python3.6/dist-packages (from pymorphy2==0.8->dostoevsky) (0.7.2)\n",
      "Requirement already satisfied: pymorphy2-dicts<3.0,>=2.4 in /usr/local/lib/python3.6/dist-packages (from pymorphy2==0.8->dostoevsky) (2.4.393442.3710985)\n",
      "Requirement already satisfied: scipy>=0.17.0 in /usr/local/lib/python3.6/dist-packages (from scikit-learn==0.22.1->dostoevsky) (1.4.1)\n",
      "Requirement already satisfied: joblib>=0.11 in /usr/local/lib/python3.6/dist-packages (from scikit-learn==0.22.1->dostoevsky) (0.17.0)\n",
      "Requirement already satisfied: python-crfsuite in /usr/local/lib/python3.6/dist-packages (from b-labs-models==2017.8.22->dostoevsky) (0.9.7)\n",
      "Requirement already satisfied: zipp>=0.5 in /usr/local/lib/python3.6/dist-packages (from importlib-metadata>=0.12; python_version < \"3.8\"->pytest==5.3.5->dostoevsky) (3.4.0)\n",
      "Requirement already satisfied: six in /usr/local/lib/python3.6/dist-packages (from packaging->pytest==5.3.5->dostoevsky) (1.15.0)\n",
      "Requirement already satisfied: pyparsing>=2.0.2 in /usr/local/lib/python3.6/dist-packages (from packaging->pytest==5.3.5->dostoevsky) (2.4.7)\n"
     ]
    }
   ],
   "source": [
    "pip install dostoevsky"
   ]
  },
  {
   "cell_type": "code",
   "execution_count": 7,
   "metadata": {
    "colab": {
     "base_uri": "https://localhost:8080/"
    },
    "executionInfo": {
     "elapsed": 4522,
     "status": "ok",
     "timestamp": 1606631344971,
     "user": {
      "displayName": "Alina Gura",
      "photoUrl": "https://lh3.googleusercontent.com/a-/AOh14GhHli0GRpzaCEH7YaiT-nOwn_631SPcXGsH-3ET=s64",
      "userId": "11452929600784148158"
     },
     "user_tz": -300
    },
    "id": "t4AX7iAcraPb",
    "outputId": "be486208-a1ed-4fa8-96b3-714ff04cd7e9"
   },
   "outputs": [
    {
     "name": "stdout",
     "output_type": "stream",
     "text": [
      "Collecting folium==0.2.1\n",
      "\u001b[?25l  Downloading https://files.pythonhosted.org/packages/72/dd/75ced7437bfa7cb9a88b96ee0177953062803c3b4cde411a97d98c35adaf/folium-0.2.1.tar.gz (69kB)\n",
      "\r",
      "\u001b[K     |████▊                           | 10kB 13.9MB/s eta 0:00:01\r",
      "\u001b[K     |█████████▍                      | 20kB 12.2MB/s eta 0:00:01\r",
      "\u001b[K     |██████████████                  | 30kB 9.0MB/s eta 0:00:01\r",
      "\u001b[K     |██████████████████▊             | 40kB 7.5MB/s eta 0:00:01\r",
      "\u001b[K     |███████████████████████▍        | 51kB 4.4MB/s eta 0:00:01\r",
      "\u001b[K     |████████████████████████████    | 61kB 4.9MB/s eta 0:00:01\r",
      "\u001b[K     |████████████████████████████████| 71kB 3.6MB/s \n",
      "\u001b[?25hRequirement already satisfied: Jinja2 in /usr/local/lib/python3.6/dist-packages (from folium==0.2.1) (2.11.2)\n",
      "Requirement already satisfied: MarkupSafe>=0.23 in /usr/local/lib/python3.6/dist-packages (from Jinja2->folium==0.2.1) (1.1.1)\n",
      "Building wheels for collected packages: folium\n",
      "  Building wheel for folium (setup.py) ... \u001b[?25l\u001b[?25hdone\n",
      "  Created wheel for folium: filename=folium-0.2.1-cp36-none-any.whl size=79980 sha256=19db66e998ddd56c76a2543307d5daf3c608d7b6306bb8bef5debdb94ca45a48\n",
      "  Stored in directory: /root/.cache/pip/wheels/b8/09/f0/52d2ef419c2aaf4fb149f92a33e0008bdce7ae816f0dd8f0c5\n",
      "Successfully built folium\n",
      "Installing collected packages: folium\n",
      "  Found existing installation: folium 0.8.3\n",
      "    Uninstalling folium-0.8.3:\n",
      "      Successfully uninstalled folium-0.8.3\n",
      "Successfully installed folium-0.2.1\n"
     ]
    }
   ],
   "source": [
    "pip install folium==0.2.1"
   ]
  },
  {
   "cell_type": "code",
   "execution_count": 9,
   "metadata": {
    "executionInfo": {
     "elapsed": 933,
     "status": "ok",
     "timestamp": 1606631419493,
     "user": {
      "displayName": "Alina Gura",
      "photoUrl": "https://lh3.googleusercontent.com/a-/AOh14GhHli0GRpzaCEH7YaiT-nOwn_631SPcXGsH-3ET=s64",
      "userId": "11452929600784148158"
     },
     "user_tz": -300
    },
    "id": "TcjR5cgTsa4j"
   },
   "outputs": [],
   "source": [
    "import json"
   ]
  },
  {
   "cell_type": "code",
   "execution_count": 14,
   "metadata": {
    "executionInfo": {
     "elapsed": 925,
     "status": "ok",
     "timestamp": 1606631611383,
     "user": {
      "displayName": "Alina Gura",
      "photoUrl": "https://lh3.googleusercontent.com/a-/AOh14GhHli0GRpzaCEH7YaiT-nOwn_631SPcXGsH-3ET=s64",
      "userId": "11452929600784148158"
     },
     "user_tz": -300
    },
    "id": "KBB0wxdktMny"
   },
   "outputs": [],
   "source": [
    "import dostoevsky"
   ]
  },
  {
   "cell_type": "code",
   "execution_count": 10,
   "metadata": {
    "executionInfo": {
     "elapsed": 2869,
     "status": "ok",
     "timestamp": 1606631560351,
     "user": {
      "displayName": "Alina Gura",
      "photoUrl": "https://lh3.googleusercontent.com/a-/AOh14GhHli0GRpzaCEH7YaiT-nOwn_631SPcXGsH-3ET=s64",
      "userId": "11452929600784148158"
     },
     "user_tz": -300
    },
    "id": "WEhoWV3bse-C"
   },
   "outputs": [],
   "source": [
    "with open('/content/drive/MyDrive/testUserParse.json', 'r', encoding='utf-8') as f: \n",
    "    users_info = json.load(f)"
   ]
  },
  {
   "cell_type": "code",
   "execution_count": 11,
   "metadata": {
    "colab": {
     "base_uri": "https://localhost:8080/"
    },
    "executionInfo": {
     "elapsed": 1018,
     "status": "ok",
     "timestamp": 1606631573904,
     "user": {
      "displayName": "Alina Gura",
      "photoUrl": "https://lh3.googleusercontent.com/a-/AOh14GhHli0GRpzaCEH7YaiT-nOwn_631SPcXGsH-3ET=s64",
      "userId": "11452929600784148158"
     },
     "user_tz": -300
    },
    "id": "6UpdobYwtBuz",
    "outputId": "2fd54578-406b-4642-b1af-43e948c084f2"
   },
   "outputs": [
    {
     "data": {
      "text/plain": [
       "{'bdate': '25.7.2000',\n",
       " 'books': '',\n",
       " 'city': 'Екатеринбург',\n",
       " 'first_name': 'Филипп',\n",
       " 'games': '',\n",
       " 'instagram': {'bio': '✏️Учусь в УрФУ\\n🏫Маркетолог\\n🎥Чуть-чуть снимаю',\n",
       "  'posts': [{'caption': 'Спустя почти три месяца я смог😏\\n\\nКазань - пушка, советую!',\n",
       "    'location': 'Казань, Республика Татарстан'},\n",
       "   {'caption': 'Фанаты мне подсказывают, что пора подвести итоги моего 19-ого года жизни💃\\nУже через два дня мне 20-ка\\U0001f992\\n\\nПервое. Спасибы😊\\n\\nЯ хочу поблагодарить свою семью. Спасибо за то, что помогали мне в трудные моменты, поддерживали, когда было грустно, и радовались, когда были поводы😉\\n\\nСпасибо моим друзьям за то, что вы такие крутые. Каждый из вас развивается в своём направлении и задаёт мне планку. Я не сомневаюсь, что вы придёте ко мне на помощь в трудный момент. Обещаю сделать то же самое и для вас😏\\n\\nСпасибо моей команде по информационнке, за этот год вы очень выросли в профессиональном плане и прокачали меня🤘\\n\\nСпасибо этому году за то, что дал мне профессиональный буст в работе с изображением, вёрстке и руководстве. В каждом направлении я ещё далёк до стоящего уровня, но начало положено💪\\n\\nВторое. Цели на следующий год жизни 🎯\\n\\nПоскольку выше я уже достаточно сильно подушил, постараюсь здесь кратко\\U0001f90f\\n\\n🔺Глубоко зашарить за таргет и контекст\\n🔺Прокачаться в дизайне и моушн-дизайне\\n🔺Прокачаться в продакшине (от съёмки до монтажа)\\n🔺Изучить вёрстку от А до Я\\n🔺Осилить javascript\\n🔺Вернуть спорт в мою жизнь\\n🔺Прокачать речь\\n🔺Определить, чем я буду заниматься\\n\\nСамое основное я написал, а микро-цели опустим😌\\n\\nПодписывайтесь на фан-клуб (отметил на фото) 🦁',\n",
       "    'location': 'Kazan, Tatarstan'},\n",
       "   {'caption': 'Мои фанаты предложили мне ответить на 9 вопросов, которые их интересуют\\U0001f996\\n\\nДевять фактов обо мне:\\n\\n🔻Мой любимый цвет - черный🦍\\n🔻Любимый летний напиток - вода или кока-колка\\U0001f964\\n🔻Девиз по жизни - \"Быть мастером по жизни\"🕺\\n🔻Между шумной тусовкой и милыми посиделками я выберу второе🌝\\n🔻Любимый исполнитель - Макс Корж (но это не точно)🎸\\n🔻В своих друзьях я больше всего ценю дофига чего. Но больше всего верность, наверное🐕\\n🔻Какой способностью я бы хотел обладать? - Способностью к программированию⌨️\\n🔻Расслабиться мне помогают встречи с друзьями\\U0001f9a7\\n🔻Моя мечта - стать хозяином жизни, создать бренд международного левела🦁\\n\\nНу что ещё добавить... Казань - крутой город.\\nНа фото Я, эчпочмак и дерутся татары🤘\\n\\nПодписывайтесь на мой фан-клуб💃',\n",
       "    'location': 'Kazan Kremlin'},\n",
       "   {'caption': 'Флекс', 'location': 'Роза Хутор Высота 2320 м'},\n",
       "   {'caption': '#ЗимняяШколаЯПрофи', 'location': ''},\n",
       "   {'caption': 'Serious business', 'location': ''},\n",
       "   {'caption': 'Вечер с лучшими', 'location': ''},\n",
       "   {'caption': 'Стоп, снято\\n\\nBackstage❤️', 'location': ''},\n",
       "   {'caption': '', 'location': 'Ural Federal University'},\n",
       "   {'caption': 'Время в УрФУ летит молниеносно. Прошло много движей, мероприятий с любимым ИнФО, было много приятных посиделок с одногруппниками. Надеюсь, что следующий год будет таким же веселым и интересным, а пока я жду праздников, как #ИнФОждетчуда',\n",
       "    'location': ''},\n",
       "   {'caption': 'Спасибо всем! Не очень хочется расставаться со школой, но к сожалению надо. Все люди, которые меня окружали эти 11 лет, вы реально крутые. Многие моменты навсегда останутся в моей памяти. Надеюсь, что еще увидимся со всеми!',\n",
       "    'location': ''},\n",
       "   {'caption': 'Всем спасибо, было круто!', 'location': ''}]},\n",
       " 'interests': '',\n",
       " 'last_name': 'Максимов',\n",
       " 'movies': '',\n",
       " 'music': '',\n",
       " 'posts': ['Велком ту...', 'Стилёва🤘🏻'],\n",
       " 'reposts': [{'group_desc': 'Зимние школы по направлениям материаловедения и строительства (11-17 февраля), программной инженерии и радиотехники (20-26 февраля) третьего сезона всероссийской олимпиады «Я — профессионал»',\n",
       "   'group_name': 'Зимняя инженерная школа УрФУ',\n",
       "   'text': '🎨 Портрет идеального инженера \\n📌 8. PaPapi PaPaPa PaPiPu \\n \\n#РоссияСтранаВозможностей #ЯПрофессионал #УрФУ'}]}"
      ]
     },
     "execution_count": 11,
     "metadata": {
      "tags": []
     },
     "output_type": "execute_result"
    }
   ],
   "source": [
    "users_info"
   ]
  },
  {
   "cell_type": "code",
   "execution_count": 12,
   "metadata": {
    "executionInfo": {
     "elapsed": 1087,
     "status": "ok",
     "timestamp": 1606631583599,
     "user": {
      "displayName": "Alina Gura",
      "photoUrl": "https://lh3.googleusercontent.com/a-/AOh14GhHli0GRpzaCEH7YaiT-nOwn_631SPcXGsH-3ET=s64",
      "userId": "11452929600784148158"
     },
     "user_tz": -300
    },
    "id": "ATefnyfgtEv6"
   },
   "outputs": [],
   "source": [
    "inst = users_info['instagram']\n",
    "all_info = [inst['bio'] + users_info['interests']]\n",
    "\n",
    "for tag in inst['posts']:\n",
    "    all_info += [tag['location'] + ' ' + tag['caption']]"
   ]
  },
  {
   "cell_type": "code",
   "execution_count": 13,
   "metadata": {
    "colab": {
     "base_uri": "https://localhost:8080/"
    },
    "executionInfo": {
     "elapsed": 1331,
     "status": "ok",
     "timestamp": 1606631596001,
     "user": {
      "displayName": "Alina Gura",
      "photoUrl": "https://lh3.googleusercontent.com/a-/AOh14GhHli0GRpzaCEH7YaiT-nOwn_631SPcXGsH-3ET=s64",
      "userId": "11452929600784148158"
     },
     "user_tz": -300
    },
    "id": "AzLjxjg8tHQS",
    "outputId": "fae023cf-16d5-45da-88e5-20fae6e6dca5"
   },
   "outputs": [
    {
     "data": {
      "text/plain": [
       "['✏️Учусь в УрФУ\\n🏫Маркетолог\\n🎥Чуть-чуть снимаю',\n",
       " 'Казань, Республика Татарстан Спустя почти три месяца я смог😏\\n\\nКазань - пушка, советую!',\n",
       " 'Kazan, Tatarstan Фанаты мне подсказывают, что пора подвести итоги моего 19-ого года жизни💃\\nУже через два дня мне 20-ка\\U0001f992\\n\\nПервое. Спасибы😊\\n\\nЯ хочу поблагодарить свою семью. Спасибо за то, что помогали мне в трудные моменты, поддерживали, когда было грустно, и радовались, когда были поводы😉\\n\\nСпасибо моим друзьям за то, что вы такие крутые. Каждый из вас развивается в своём направлении и задаёт мне планку. Я не сомневаюсь, что вы придёте ко мне на помощь в трудный момент. Обещаю сделать то же самое и для вас😏\\n\\nСпасибо моей команде по информационнке, за этот год вы очень выросли в профессиональном плане и прокачали меня🤘\\n\\nСпасибо этому году за то, что дал мне профессиональный буст в работе с изображением, вёрстке и руководстве. В каждом направлении я ещё далёк до стоящего уровня, но начало положено💪\\n\\nВторое. Цели на следующий год жизни 🎯\\n\\nПоскольку выше я уже достаточно сильно подушил, постараюсь здесь кратко\\U0001f90f\\n\\n🔺Глубоко зашарить за таргет и контекст\\n🔺Прокачаться в дизайне и моушн-дизайне\\n🔺Прокачаться в продакшине (от съёмки до монтажа)\\n🔺Изучить вёрстку от А до Я\\n🔺Осилить javascript\\n🔺Вернуть спорт в мою жизнь\\n🔺Прокачать речь\\n🔺Определить, чем я буду заниматься\\n\\nСамое основное я написал, а микро-цели опустим😌\\n\\nПодписывайтесь на фан-клуб (отметил на фото) 🦁',\n",
       " 'Kazan Kremlin Мои фанаты предложили мне ответить на 9 вопросов, которые их интересуют\\U0001f996\\n\\nДевять фактов обо мне:\\n\\n🔻Мой любимый цвет - черный🦍\\n🔻Любимый летний напиток - вода или кока-колка\\U0001f964\\n🔻Девиз по жизни - \"Быть мастером по жизни\"🕺\\n🔻Между шумной тусовкой и милыми посиделками я выберу второе🌝\\n🔻Любимый исполнитель - Макс Корж (но это не точно)🎸\\n🔻В своих друзьях я больше всего ценю дофига чего. Но больше всего верность, наверное🐕\\n🔻Какой способностью я бы хотел обладать? - Способностью к программированию⌨️\\n🔻Расслабиться мне помогают встречи с друзьями\\U0001f9a7\\n🔻Моя мечта - стать хозяином жизни, создать бренд международного левела🦁\\n\\nНу что ещё добавить... Казань - крутой город.\\nНа фото Я, эчпочмак и дерутся татары🤘\\n\\nПодписывайтесь на мой фан-клуб💃',\n",
       " 'Роза Хутор Высота 2320 м Флекс',\n",
       " ' #ЗимняяШколаЯПрофи',\n",
       " ' Serious business',\n",
       " ' Вечер с лучшими',\n",
       " ' Стоп, снято\\n\\nBackstage❤️',\n",
       " 'Ural Federal University ',\n",
       " ' Время в УрФУ летит молниеносно. Прошло много движей, мероприятий с любимым ИнФО, было много приятных посиделок с одногруппниками. Надеюсь, что следующий год будет таким же веселым и интересным, а пока я жду праздников, как #ИнФОждетчуда',\n",
       " ' Спасибо всем! Не очень хочется расставаться со школой, но к сожалению надо. Все люди, которые меня окружали эти 11 лет, вы реально крутые. Многие моменты навсегда останутся в моей памяти. Надеюсь, что еще увидимся со всеми!',\n",
       " ' Всем спасибо, было круто!']"
      ]
     },
     "execution_count": 13,
     "metadata": {
      "tags": []
     },
     "output_type": "execute_result"
    }
   ],
   "source": [
    "all_info"
   ]
  },
  {
   "cell_type": "code",
   "execution_count": 25,
   "metadata": {
    "colab": {
     "base_uri": "https://localhost:8080/",
     "height": 129
    },
    "executionInfo": {
     "elapsed": 919,
     "status": "error",
     "timestamp": 1606632591558,
     "user": {
      "displayName": "Alina Gura",
      "photoUrl": "https://lh3.googleusercontent.com/a-/AOh14GhHli0GRpzaCEH7YaiT-nOwn_631SPcXGsH-3ET=s64",
      "userId": "11452929600784148158"
     },
     "user_tz": -300
    },
    "id": "J0quOtr9tKFa",
    "outputId": "0a1ae040-bd4d-4371-8c7a-b068d62c1f98"
   },
   "outputs": [
    {
     "ename": "SyntaxError",
     "evalue": "ignored",
     "output_type": "error",
     "traceback": [
      "\u001b[0;36m  File \u001b[0;32m\"<ipython-input-25-0d68b7baf51f>\"\u001b[0;36m, line \u001b[0;32m1\u001b[0m\n\u001b[0;31m    python -m doestoevsky.data download vk-embeddings cnn-social-network-model\u001b[0m\n\u001b[0m                        ^\u001b[0m\n\u001b[0;31mSyntaxError\u001b[0m\u001b[0;31m:\u001b[0m invalid syntax\n"
     ]
    }
   ],
   "source": [
    "python -m doestoevsky.data download vk-embeddings cnn-social-network-model\n",
    "doestoevsky download vk-embeddings cnn-social-network-model"
   ]
  },
  {
   "cell_type": "code",
   "execution_count": 17,
   "metadata": {
    "executionInfo": {
     "elapsed": 1299,
     "status": "ok",
     "timestamp": 1606631779752,
     "user": {
      "displayName": "Alina Gura",
      "photoUrl": "https://lh3.googleusercontent.com/a-/AOh14GhHli0GRpzaCEH7YaiT-nOwn_631SPcXGsH-3ET=s64",
      "userId": "11452929600784148158"
     },
     "user_tz": -300
    },
    "id": "MzREaElftxRz"
   },
   "outputs": [],
   "source": [
    "from dostoevsky.tokenization import RegexTokenizer\n",
    "from dostoevsky.models import FastTextSocialNetworkModel"
   ]
  },
  {
   "cell_type": "code",
   "execution_count": 18,
   "metadata": {
    "colab": {
     "base_uri": "https://localhost:8080/",
     "height": 391
    },
    "executionInfo": {
     "elapsed": 949,
     "status": "error",
     "timestamp": 1606631835016,
     "user": {
      "displayName": "Alina Gura",
      "photoUrl": "https://lh3.googleusercontent.com/a-/AOh14GhHli0GRpzaCEH7YaiT-nOwn_631SPcXGsH-3ET=s64",
      "userId": "11452929600784148158"
     },
     "user_tz": -300
    },
    "id": "Owr_uOpOuDhD",
    "outputId": "45c92ab7-00ec-4d56-dadb-55d488185f05"
   },
   "outputs": [
    {
     "name": "stderr",
     "output_type": "stream",
     "text": [
      "\n"
     ]
    },
    {
     "ename": "ValueError",
     "evalue": "ignored",
     "output_type": "error",
     "traceback": [
      "\u001b[0;31m---------------------------------------------------------------------------\u001b[0m",
      "\u001b[0;31mValueError\u001b[0m                                Traceback (most recent call last)",
      "\u001b[0;32m<ipython-input-18-b06e675a8c33>\u001b[0m in \u001b[0;36m<module>\u001b[0;34m()\u001b[0m\n\u001b[1;32m      1\u001b[0m \u001b[0mtokenizer\u001b[0m \u001b[0;34m=\u001b[0m \u001b[0mRegexTokenizer\u001b[0m\u001b[0;34m(\u001b[0m\u001b[0;34m)\u001b[0m\u001b[0;34m\u001b[0m\u001b[0;34m\u001b[0m\u001b[0m\n\u001b[0;32m----> 2\u001b[0;31m \u001b[0mmodel\u001b[0m \u001b[0;34m=\u001b[0m \u001b[0mFastTextSocialNetworkModel\u001b[0m\u001b[0;34m(\u001b[0m\u001b[0mtokenizer\u001b[0m\u001b[0;34m=\u001b[0m\u001b[0mtokenizer\u001b[0m\u001b[0;34m)\u001b[0m\u001b[0;34m\u001b[0m\u001b[0;34m\u001b[0m\u001b[0m\n\u001b[0m\u001b[1;32m      3\u001b[0m \u001b[0;34m\u001b[0m\u001b[0m\n\u001b[1;32m      4\u001b[0m messages = [\n\u001b[1;32m      5\u001b[0m     \u001b[0;34m'титаник - отличный фильм'\u001b[0m\u001b[0;34m,\u001b[0m\u001b[0;34m\u001b[0m\u001b[0;34m\u001b[0m\u001b[0m\n",
      "\u001b[0;32m/usr/local/lib/python3.6/dist-packages/dostoevsky/models.py\u001b[0m in \u001b[0;36m__init__\u001b[0;34m(self, tokenizer, lemmatize)\u001b[0m\n\u001b[1;32m     63\u001b[0m             \u001b[0mlemmatize\u001b[0m\u001b[0;34m=\u001b[0m\u001b[0mlemmatize\u001b[0m\u001b[0;34m,\u001b[0m\u001b[0;34m\u001b[0m\u001b[0;34m\u001b[0m\u001b[0m\n\u001b[1;32m     64\u001b[0m             \u001b[0mmodel_path\u001b[0m\u001b[0;34m=\u001b[0m\u001b[0mself\u001b[0m\u001b[0;34m.\u001b[0m\u001b[0mMODEL_PATH\u001b[0m\u001b[0;34m,\u001b[0m\u001b[0;34m\u001b[0m\u001b[0;34m\u001b[0m\u001b[0m\n\u001b[0;32m---> 65\u001b[0;31m             \u001b[0mcorpus\u001b[0m\u001b[0;34m=\u001b[0m\u001b[0;32mNone\u001b[0m\u001b[0;34m\u001b[0m\u001b[0;34m\u001b[0m\u001b[0m\n\u001b[0m\u001b[1;32m     66\u001b[0m         )\n\u001b[1;32m     67\u001b[0m \u001b[0;34m\u001b[0m\u001b[0m\n",
      "\u001b[0;32m/usr/local/lib/python3.6/dist-packages/dostoevsky/models.py\u001b[0m in \u001b[0;36m__init__\u001b[0;34m(self, tokenizer, lemmatize, model_path, corpus)\u001b[0m\n\u001b[1;32m     25\u001b[0m         self.model = (\n\u001b[1;32m     26\u001b[0m             \u001b[0mself\u001b[0m\u001b[0;34m.\u001b[0m\u001b[0mget_compiled_model\u001b[0m\u001b[0;34m(\u001b[0m\u001b[0;34m)\u001b[0m\u001b[0;34m\u001b[0m\u001b[0;34m\u001b[0m\u001b[0m\n\u001b[0;32m---> 27\u001b[0;31m             \u001b[0;32mif\u001b[0m \u001b[0mself\u001b[0m\u001b[0;34m.\u001b[0m\u001b[0mmodel_path\u001b[0m\u001b[0;34m\u001b[0m\u001b[0;34m\u001b[0m\u001b[0m\n\u001b[0m\u001b[1;32m     28\u001b[0m             \u001b[0;32melse\u001b[0m \u001b[0mself\u001b[0m\u001b[0;34m.\u001b[0m\u001b[0mget_raw_model\u001b[0m\u001b[0;34m(\u001b[0m\u001b[0;34m)\u001b[0m\u001b[0;34m\u001b[0m\u001b[0;34m\u001b[0m\u001b[0m\n\u001b[1;32m     29\u001b[0m         )\n",
      "\u001b[0;32m/usr/local/lib/python3.6/dist-packages/dostoevsky/models.py\u001b[0m in \u001b[0;36mget_compiled_model\u001b[0;34m(self)\u001b[0m\n\u001b[1;32m     67\u001b[0m \u001b[0;34m\u001b[0m\u001b[0m\n\u001b[1;32m     68\u001b[0m     \u001b[0;32mdef\u001b[0m \u001b[0mget_compiled_model\u001b[0m\u001b[0;34m(\u001b[0m\u001b[0mself\u001b[0m\u001b[0;34m)\u001b[0m\u001b[0;34m:\u001b[0m\u001b[0;34m\u001b[0m\u001b[0;34m\u001b[0m\u001b[0m\n\u001b[0;32m---> 69\u001b[0;31m         \u001b[0;32mreturn\u001b[0m \u001b[0mload_fasttext_model\u001b[0m\u001b[0;34m(\u001b[0m\u001b[0mself\u001b[0m\u001b[0;34m.\u001b[0m\u001b[0mMODEL_PATH\u001b[0m\u001b[0;34m)\u001b[0m\u001b[0;34m\u001b[0m\u001b[0;34m\u001b[0m\u001b[0m\n\u001b[0m\u001b[1;32m     70\u001b[0m \u001b[0;34m\u001b[0m\u001b[0m\n\u001b[1;32m     71\u001b[0m     \u001b[0;32mdef\u001b[0m \u001b[0mpreprocess_input\u001b[0m\u001b[0;34m(\u001b[0m\u001b[0mself\u001b[0m\u001b[0;34m,\u001b[0m \u001b[0msentences\u001b[0m\u001b[0;34m:\u001b[0m \u001b[0mList\u001b[0m\u001b[0;34m[\u001b[0m\u001b[0mstr\u001b[0m\u001b[0;34m]\u001b[0m\u001b[0;34m)\u001b[0m \u001b[0;34m->\u001b[0m \u001b[0mList\u001b[0m\u001b[0;34m[\u001b[0m\u001b[0mstr\u001b[0m\u001b[0;34m]\u001b[0m\u001b[0;34m:\u001b[0m\u001b[0;34m\u001b[0m\u001b[0;34m\u001b[0m\u001b[0m\n",
      "\u001b[0;32m/usr/local/lib/python3.6/dist-packages/fasttext/FastText.py\u001b[0m in \u001b[0;36mload_model\u001b[0;34m(path)\u001b[0m\n\u001b[1;32m    348\u001b[0m     \u001b[0;34m\"\"\"Load a model given a filepath and return a model object.\"\"\"\u001b[0m\u001b[0;34m\u001b[0m\u001b[0;34m\u001b[0m\u001b[0m\n\u001b[1;32m    349\u001b[0m     \u001b[0meprint\u001b[0m\u001b[0;34m(\u001b[0m\u001b[0;34m\"Warning : `load_model` does not return WordVectorModel or SupervisedModel any more, but a `FastText` object which is very similar.\"\u001b[0m\u001b[0;34m)\u001b[0m\u001b[0;34m\u001b[0m\u001b[0;34m\u001b[0m\u001b[0m\n\u001b[0;32m--> 350\u001b[0;31m     \u001b[0;32mreturn\u001b[0m \u001b[0m_FastText\u001b[0m\u001b[0;34m(\u001b[0m\u001b[0mmodel_path\u001b[0m\u001b[0;34m=\u001b[0m\u001b[0mpath\u001b[0m\u001b[0;34m)\u001b[0m\u001b[0;34m\u001b[0m\u001b[0;34m\u001b[0m\u001b[0m\n\u001b[0m\u001b[1;32m    351\u001b[0m \u001b[0;34m\u001b[0m\u001b[0m\n\u001b[1;32m    352\u001b[0m \u001b[0;34m\u001b[0m\u001b[0m\n",
      "\u001b[0;32m/usr/local/lib/python3.6/dist-packages/fasttext/FastText.py\u001b[0m in \u001b[0;36m__init__\u001b[0;34m(self, model_path, args)\u001b[0m\n\u001b[1;32m     41\u001b[0m         \u001b[0mself\u001b[0m\u001b[0;34m.\u001b[0m\u001b[0mf\u001b[0m \u001b[0;34m=\u001b[0m \u001b[0mfasttext\u001b[0m\u001b[0;34m.\u001b[0m\u001b[0mfasttext\u001b[0m\u001b[0;34m(\u001b[0m\u001b[0;34m)\u001b[0m\u001b[0;34m\u001b[0m\u001b[0;34m\u001b[0m\u001b[0m\n\u001b[1;32m     42\u001b[0m         \u001b[0;32mif\u001b[0m \u001b[0mmodel_path\u001b[0m \u001b[0;32mis\u001b[0m \u001b[0;32mnot\u001b[0m \u001b[0;32mNone\u001b[0m\u001b[0;34m:\u001b[0m\u001b[0;34m\u001b[0m\u001b[0;34m\u001b[0m\u001b[0m\n\u001b[0;32m---> 43\u001b[0;31m             \u001b[0mself\u001b[0m\u001b[0;34m.\u001b[0m\u001b[0mf\u001b[0m\u001b[0;34m.\u001b[0m\u001b[0mloadModel\u001b[0m\u001b[0;34m(\u001b[0m\u001b[0mmodel_path\u001b[0m\u001b[0;34m)\u001b[0m\u001b[0;34m\u001b[0m\u001b[0;34m\u001b[0m\u001b[0m\n\u001b[0m\u001b[1;32m     44\u001b[0m         \u001b[0mself\u001b[0m\u001b[0;34m.\u001b[0m\u001b[0m_words\u001b[0m \u001b[0;34m=\u001b[0m \u001b[0;32mNone\u001b[0m\u001b[0;34m\u001b[0m\u001b[0;34m\u001b[0m\u001b[0m\n\u001b[1;32m     45\u001b[0m         \u001b[0mself\u001b[0m\u001b[0;34m.\u001b[0m\u001b[0m_labels\u001b[0m \u001b[0;34m=\u001b[0m \u001b[0;32mNone\u001b[0m\u001b[0;34m\u001b[0m\u001b[0;34m\u001b[0m\u001b[0m\n",
      "\u001b[0;31mValueError\u001b[0m: /usr/local/lib/python3.6/dist-packages/dostoevsky/data/models/fasttext-social-network-model.bin cannot be opened for loading!"
     ]
    }
   ],
   "source": [
    "tokenizer = RegexTokenizer()\n",
    "model = FastTextSocialNetworkModel(tokenizer=tokenizer)\n",
    "\n",
    "messages = [\n",
    "    'титаник - отличный фильм',\n",
    "    'титаник - это фильм',\n",
    "    'я люблю тебя!!',\n",
    "    'какой ужас, мне страшно'\n",
    "]\n",
    "\n",
    "results = model.predict(messages, k = 2)\n",
    "\n",
    "for message, sentiment in zip(messages, results):\n",
    "    print(message, '->', sentiment)"
   ]
  }
 ],
 "metadata": {
  "colab": {
   "authorship_tag": "ABX9TyP3XGvge4zHE8WhrYM9E/rt",
   "mount_file_id": "1LMnHwtEHcAN5qHWA-y9z-032lkfC8043",
   "name": "Untitled0.ipynb",
   "provenance": []
  },
  "kernelspec": {
   "display_name": "Python 3",
   "language": "python",
   "name": "python3"
  },
  "language_info": {
   "codemirror_mode": {
    "name": "ipython",
    "version": 3
   },
   "file_extension": ".py",
   "mimetype": "text/x-python",
   "name": "python",
   "nbconvert_exporter": "python",
   "pygments_lexer": "ipython3",
   "version": "3.7.4"
  }
 },
 "nbformat": 4,
 "nbformat_minor": 1
}
